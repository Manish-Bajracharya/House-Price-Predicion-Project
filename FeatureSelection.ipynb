{
 "cells": [
  {
   "cell_type": "markdown",
   "metadata": {},
   "source": [
    "# House Price dataset : Feature Selection\n",
    "\n",
    "In this notebook, we will select features which are the most predictive ones to build our machine learning model.\n",
    "\n",
    "**We will use Lasso regression. This algorithm has a property of setting coefficients to zero if they are non-informative. This way we can remove them from our model.**"
   ]
  },
  {
   "cell_type": "code",
   "execution_count": 17,
   "metadata": {},
   "outputs": [],
   "source": [
    "import pandas as pd\n",
    "import numpy as np\n",
    "import matplotlib.pyplot as plt\n",
    "from sklearn.feature_selection import SelectFromModel\n",
    "from sklearn.linear_model import Lasso\n",
    "\n",
    "pd.set_option('display.max_columns', None)\n",
    "\n",
    "import warnings\n",
    "warnings.simplefilter(action='ignore')"
   ]
  },
  {
   "cell_type": "code",
   "execution_count": 9,
   "metadata": {},
   "outputs": [
    {
     "name": "stdout",
     "output_type": "stream",
     "text": [
      "     Id  MSSubClass  MSZoning  LotFrontage   LotArea  Street  Alley  LotShape  \\\n",
      "0   931    0.000000      0.75     0.461171  0.377048     1.0    0.5  0.333333   \n",
      "1   657    0.000000      0.75     0.456066  0.399443     1.0    0.5  0.333333   \n",
      "2    46    0.588235      0.75     0.394699  0.347082     1.0    0.5  0.000000   \n",
      "3  1349    0.000000      0.75     0.388581  0.493677     1.0    0.5  0.666667   \n",
      "4    56    0.000000      0.75     0.577658  0.402702     1.0    0.5  0.333333   \n",
      "\n",
      "   LandContour  Utilities  ...  MiscFeature  MiscVal    MoSold  YrSold  \\\n",
      "0     1.000000        1.0  ...          1.0      0.0  0.545455    0.75   \n",
      "1     0.333333        1.0  ...          1.0      0.0  0.636364    0.50   \n",
      "2     0.333333        1.0  ...          1.0      0.0  0.090909    1.00   \n",
      "3     0.666667        1.0  ...          1.0      0.0  0.636364    0.25   \n",
      "4     0.333333        1.0  ...          1.0      0.0  0.545455    0.50   \n",
      "\n",
      "   SaleType  SaleCondition  SalePrice  LotFrontage_na  MasVnrArea_na  \\\n",
      "0  0.666667           0.75  12.211060             0.0            0.0   \n",
      "1  0.666667           0.75  11.887931             0.0            0.0   \n",
      "2  0.666667           0.75  12.675764             0.0            0.0   \n",
      "3  0.666667           0.75  12.278393             1.0            0.0   \n",
      "4  0.666667           0.75  12.103486             0.0            0.0   \n",
      "\n",
      "   GarageYrBlt_na  \n",
      "0             0.0  \n",
      "1             0.0  \n",
      "2             0.0  \n",
      "3             0.0  \n",
      "4             0.0  \n",
      "\n",
      "[5 rows x 84 columns]\n",
      "    Id  MSSubClass  MSZoning  LotFrontage   LotArea  Street  Alley  LotShape  \\\n",
      "0  530    0.000000      0.75     0.388581  0.630999     1.0    0.5  0.333333   \n",
      "1  492    0.176471      0.75     0.490408  0.389061     1.0    0.5  0.000000   \n",
      "2  460    0.176471      0.75     0.388581  0.329918     1.0    0.5  0.333333   \n",
      "3  280    0.235294      0.75     0.508690  0.399404     1.0    0.5  0.000000   \n",
      "4  656    0.823529      0.25     0.000000  0.050188     1.0    0.5  0.000000   \n",
      "\n",
      "   LandContour  Utilities  ...  MiscFeature  MiscVal    MoSold  YrSold  \\\n",
      "0     0.333333        1.0  ...          1.0      0.0  0.181818    0.25   \n",
      "1     0.333333        1.0  ...          1.0      0.0  0.636364    0.00   \n",
      "2     0.000000        1.0  ...          1.0      0.0  0.545455    0.75   \n",
      "3     0.333333        1.0  ...          1.0      0.0  0.181818    0.50   \n",
      "4     0.333333        1.0  ...          1.0      0.0  0.181818    1.00   \n",
      "\n",
      "   SaleType  SaleCondition  SalePrice  LotFrontage_na  MasVnrArea_na  \\\n",
      "0  0.666667           0.00  12.209188             1.0            1.0   \n",
      "1  0.666667           0.75  11.798104             0.0            0.0   \n",
      "2  0.666667           0.75  11.608236             1.0            0.0   \n",
      "3  0.666667           0.75  12.165251             0.0            0.0   \n",
      "4  0.666667           0.50  11.385092             0.0            0.0   \n",
      "\n",
      "   GarageYrBlt_na  \n",
      "0             0.0  \n",
      "1             0.0  \n",
      "2             0.0  \n",
      "3             0.0  \n",
      "4             0.0  \n",
      "\n",
      "[5 rows x 84 columns]\n"
     ]
    }
   ],
   "source": [
    "X_train=pd.read_csv('xtrain.csv')\n",
    "X_test=pd.read_csv('xtest.csv')\n",
    "\n",
    "print(X_train.head())\n",
    "print(X_test.head())"
   ]
  },
  {
   "cell_type": "code",
   "execution_count": 10,
   "metadata": {},
   "outputs": [],
   "source": [
    "y_train=X_train['SalePrice']\n",
    "y_test=X_test['SalePrice']\n",
    "\n",
    "X_train.drop(['Id','SalePrice'],axis=1,inplace=True)\n",
    "X_test.drop(['Id','SalePrice'],axis=1,inplace=True)   "
   ]
  },
  {
   "cell_type": "markdown",
   "metadata": {},
   "source": [
    "## Feature Selection\n"
   ]
  },
  {
   "cell_type": "code",
   "execution_count": 11,
   "metadata": {},
   "outputs": [
    {
     "data": {
      "text/plain": [
       "array([ True,  True, False, False, False, False, False, False, False,\n",
       "       False, False,  True, False, False, False, False,  True,  True,\n",
       "       False,  True, False, False, False, False, False, False, False,\n",
       "       False, False,  True, False,  True, False, False, False, False,\n",
       "       False, False, False,  True,  True, False,  True, False, False,\n",
       "        True,  True, False, False, False, False, False,  True, False,\n",
       "       False,  True,  True,  True, False,  True,  True, False, False,\n",
       "       False,  True, False, False, False, False, False, False, False,\n",
       "       False, False, False, False, False, False, False, False, False,\n",
       "       False])"
      ]
     },
     "execution_count": 11,
     "metadata": {},
     "output_type": "execute_result"
    }
   ],
   "source": [
    "sfm_=SelectFromModel(estimator=Lasso(alpha=0.005,random_state=1))\n",
    "\n",
    "sfm_.fit(X_train,y_train)\n",
    "\n",
    "sfm_.get_support()"
   ]
  },
  {
   "cell_type": "code",
   "execution_count": 14,
   "metadata": {},
   "outputs": [
    {
     "name": "stdout",
     "output_type": "stream",
     "text": [
      "Total Features: 82\n",
      "Selected Features: 20\n",
      "Features with coefficient shrank to zero: 62\n"
     ]
    }
   ],
   "source": [
    "selected_feat=X_train.columns[(sfm_.get_support())]\n",
    "print('Total Features: {}'.format(X_train.shape[1]))\n",
    "print('Selected Features: {}'.format(len(selected_feat)))\n",
    "print('Features with coefficient shrank to zero: {}'.format(np.sum(sfm_.estimator_.coef_==0)))"
   ]
  },
  {
   "cell_type": "code",
   "execution_count": 15,
   "metadata": {},
   "outputs": [
    {
     "name": "stdout",
     "output_type": "stream",
     "text": [
      "Selected features are : Index(['MSSubClass', 'MSZoning', 'Neighborhood', 'OverallQual', 'OverallCond',\n",
      "       'YearRemodAdd', 'BsmtQual', 'BsmtExposure', 'HeatingQC', 'CentralAir',\n",
      "       '1stFlrSF', 'GrLivArea', 'BsmtFullBath', 'KitchenQual', 'Fireplaces',\n",
      "       'FireplaceQu', 'GarageType', 'GarageFinish', 'GarageCars',\n",
      "       'PavedDrive'],\n",
      "      dtype='object')\n"
     ]
    }
   ],
   "source": [
    "print('Selected features are :',selected_feat)"
   ]
  },
  {
   "cell_type": "code",
   "execution_count": 19,
   "metadata": {},
   "outputs": [],
   "source": [
    "pd.Series(selected_feat).to_csv('selected_features.csv',index=False,header='0')"
   ]
  }
 ],
 "metadata": {
  "kernelspec": {
   "display_name": "Python 3",
   "language": "python",
   "name": "python3"
  },
  "language_info": {
   "codemirror_mode": {
    "name": "ipython",
    "version": 3
   },
   "file_extension": ".py",
   "mimetype": "text/x-python",
   "name": "python",
   "nbconvert_exporter": "python",
   "pygments_lexer": "ipython3",
   "version": "3.7.3"
  }
 },
 "nbformat": 4,
 "nbformat_minor": 2
}
