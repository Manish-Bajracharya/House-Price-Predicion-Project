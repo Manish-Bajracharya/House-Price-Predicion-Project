{
 "cells": [
  {
   "cell_type": "markdown",
   "metadata": {},
   "source": [
    "# House Price dataset : Feature Selection\n",
    "\n",
    "In this notebook, we will select features which are the most predictive ones to build our machine learning model.\n",
    "\n",
    "**We will use some basic filters like unique, constanst, quasi-constant, duplicated features. We will also remove correlated features.**\n",
    "\n",
    "**We will use algorithms like DecisionTreeRegressor, Lasso regression and RandomForestRegressor. This algorithm has a property of setting coefficients to zero if they are non-informative. This way we can remove them from our model.**"
   ]
  },
  {
   "cell_type": "code",
   "execution_count": 1,
   "metadata": {},
   "outputs": [],
   "source": [
    "import pandas as pd\n",
    "import numpy as np\n",
    "import matplotlib.pyplot as plt\n",
    "from sklearn.feature_selection import SelectFromModel\n",
    "from sklearn.linear_model import Lasso\n",
    "from sklearn.feature_selection import VarianceThreshold\n",
    "from sklearn.tree import DecisionTreeRegressor\n",
    "from sklearn.metrics import mean_squared_error\n",
    "from sklearn.ensemble import RandomForestRegressor\n",
    "\n",
    "pd.set_option('display.max_columns', None)\n",
    "\n",
    "import warnings\n",
    "warnings.simplefilter(action='ignore')"
   ]
  },
  {
   "cell_type": "code",
   "execution_count": 6,
   "metadata": {},
   "outputs": [
    {
     "name": "stdout",
     "output_type": "stream",
     "text": [
      "(1314, 84)\n",
      "     Id  MSSubClass  MSZoning  LotFrontage   LotArea  Street  Alley  LotShape  \\\n",
      "0   931    0.000000      0.75     0.461171  0.377048     1.0    0.5  0.333333   \n",
      "1   657    0.000000      0.75     0.456066  0.399443     1.0    0.5  0.333333   \n",
      "2    46    0.588235      0.75     0.394699  0.347082     1.0    0.5  0.000000   \n",
      "3  1349    0.000000      0.75     0.388581  0.493677     1.0    0.5  0.666667   \n",
      "4    56    0.000000      0.75     0.577658  0.402702     1.0    0.5  0.333333   \n",
      "\n",
      "   LandContour  Utilities  LotConfig  LandSlope  Neighborhood  Condition1  \\\n",
      "0     1.000000        1.0        0.0        0.0      0.863636         0.4   \n",
      "1     0.333333        1.0        0.0        0.0      0.363636         0.4   \n",
      "2     0.333333        1.0        0.0        0.0      1.000000         0.4   \n",
      "3     0.666667        1.0        0.0        0.0      0.500000         0.4   \n",
      "4     0.333333        1.0        0.0        0.0      0.363636         0.4   \n",
      "\n",
      "   Condition2  BldgType  HouseStyle  OverallQual  OverallCond  YearBuilt  \\\n",
      "0         1.0      0.75         0.6     0.777778         0.50   0.978261   \n",
      "1         1.0      0.75         0.6     0.444444         0.75   0.630435   \n",
      "2         1.0      1.00         0.6     0.888889         0.50   0.963768   \n",
      "3         1.0      0.75         0.6     0.666667         0.50   0.913043   \n",
      "4         1.0      0.75         0.6     0.555556         0.50   0.666667   \n",
      "\n",
      "   YearRemodAdd  RoofStyle  RoofMatl  Exterior1st  Exterior2nd  MasVnrType  \\\n",
      "0      0.950000        0.0       0.0          0.9          0.9    0.000000   \n",
      "1      0.933333        0.0       0.0          0.5          0.6    0.666667   \n",
      "2      0.916667        0.5       0.0          0.3          0.3    0.666667   \n",
      "3      0.800000        0.0       0.0          0.9          0.9    0.000000   \n",
      "4      0.233333        0.0       0.0          0.5          0.7    0.666667   \n",
      "\n",
      "   MasVnrArea  ExterQual  ExterCond  Foundation  BsmtQual  BsmtCond  \\\n",
      "0     0.00000   0.666667        1.0         1.0      0.75      0.75   \n",
      "1     0.03375   0.666667        1.0         0.5      0.50      0.75   \n",
      "2     0.25750   1.000000        1.0         1.0      1.00      0.75   \n",
      "3     0.00000   0.666667        1.0         1.0      0.75      0.75   \n",
      "4     0.17000   0.333333        1.0         0.5      0.50      0.75   \n",
      "\n",
      "   BsmtExposure  BsmtFinType1  BsmtFinSF1  BsmtFinType2  BsmtFinSF2  \\\n",
      "0          0.75      1.000000    0.002835      0.666667         0.0   \n",
      "1          0.25      0.666667    0.142807      0.666667         0.0   \n",
      "2          0.25      1.000000    0.080794      0.666667         0.0   \n",
      "3          1.00      1.000000    0.255670      0.666667         0.0   \n",
      "4          0.25      0.333333    0.086818      0.666667         0.0   \n",
      "\n",
      "   BsmtUnfSF  TotalBsmtSF  Heating  HeatingQC  CentralAir  Electrical  \\\n",
      "0   0.673479     0.239935      1.0       1.00         1.0         1.0   \n",
      "1   0.114724     0.172340      1.0       1.00         1.0         1.0   \n",
      "2   0.601951     0.286743      1.0       1.00         1.0         1.0   \n",
      "3   0.018114     0.242553      1.0       1.00         1.0         1.0   \n",
      "4   0.434278     0.233224      1.0       0.75         1.0         1.0   \n",
      "\n",
      "   1stFlrSF  2ndFlrSF  LowQualFinSF  GrLivArea  BsmtFullBath  BsmtHalfBath  \\\n",
      "0  0.559760       0.0           0.0   0.523250      0.000000           0.0   \n",
      "1  0.434539       0.0           0.0   0.406196      0.333333           0.0   \n",
      "2  0.627205       0.0           0.0   0.586296      0.333333           0.0   \n",
      "3  0.566920       0.0           0.0   0.529943      0.333333           0.0   \n",
      "4  0.549026       0.0           0.0   0.513216      0.000000           0.0   \n",
      "\n",
      "   FullBath  HalfBath  BedroomAbvGr  KitchenAbvGr  KitchenQual  TotRmsAbvGrd  \\\n",
      "0  0.666667       0.0         0.375      0.333333     0.666667      0.416667   \n",
      "1  0.333333       0.5         0.375      0.333333     0.666667      0.250000   \n",
      "2  0.666667       0.0         0.250      0.333333     1.000000      0.333333   \n",
      "3  0.666667       0.0         0.375      0.333333     0.666667      0.250000   \n",
      "4  0.666667       0.0         0.375      0.333333     0.333333      0.416667   \n",
      "\n",
      "   Functional  Fireplaces  FireplaceQu  GarageType  GarageYrBlt  GarageFinish  \\\n",
      "0         1.0    0.000000          0.2         0.8     0.972727      1.000000   \n",
      "1         1.0    0.000000          0.2         0.8     0.536364      0.666667   \n",
      "2         1.0    0.333333          0.8         0.8     0.954545      0.666667   \n",
      "3         1.0    0.333333          0.4         0.8     0.890909      0.666667   \n",
      "4         1.0    0.333333          0.8         0.8     0.581818      0.666667   \n",
      "\n",
      "   GarageCars  GarageArea  GarageQual  GarageCond  PavedDrive  WoodDeckSF  \\\n",
      "0        0.75    0.430183    0.666667         1.0         1.0    0.116686   \n",
      "1        0.25    0.220028    0.666667         1.0         1.0    0.000000   \n",
      "2        0.50    0.406206    0.666667         1.0         1.0    0.228705   \n",
      "3        0.50    0.362482    0.666667         1.0         1.0    0.469078   \n",
      "4        0.50    0.406206    0.666667         1.0         1.0    0.000000   \n",
      "\n",
      "   OpenPorchSF  EnclosedPorch  3SsnPorch  ScreenPorch  PoolArea  PoolQC  \\\n",
      "0     0.032907            0.0   0.000000          0.0       0.0     0.0   \n",
      "1     0.000000            0.0   0.000000          0.0       0.0     0.0   \n",
      "2     0.149909            0.0   0.000000          0.0       0.0     0.0   \n",
      "3     0.045704            0.0   0.000000          0.0       0.0     0.0   \n",
      "4     0.000000            0.0   0.801181          0.0       0.0     0.0   \n",
      "\n",
      "   Fence  MiscFeature  MiscVal    MoSold  YrSold  SaleType  SaleCondition  \\\n",
      "0   1.00          1.0      0.0  0.545455    0.75  0.666667           0.75   \n",
      "1   0.25          1.0      0.0  0.636364    0.50  0.666667           0.75   \n",
      "2   1.00          1.0      0.0  0.090909    1.00  0.666667           0.75   \n",
      "3   1.00          1.0      0.0  0.636364    0.25  0.666667           0.75   \n",
      "4   1.00          1.0      0.0  0.545455    0.50  0.666667           0.75   \n",
      "\n",
      "   SalePrice  LotFrontage_na  MasVnrArea_na  GarageYrBlt_na  \n",
      "0  12.211060             0.0            0.0             0.0  \n",
      "1  11.887931             0.0            0.0             0.0  \n",
      "2  12.675764             0.0            0.0             0.0  \n",
      "3  12.278393             1.0            0.0             0.0  \n",
      "4  12.103486             0.0            0.0             0.0  \n",
      "(146, 84)\n",
      "    Id  MSSubClass  MSZoning  LotFrontage   LotArea  Street  Alley  LotShape  \\\n",
      "0  530    0.000000      0.75     0.388581  0.630999     1.0    0.5  0.333333   \n",
      "1  492    0.176471      0.75     0.490408  0.389061     1.0    0.5  0.000000   \n",
      "2  460    0.176471      0.75     0.388581  0.329918     1.0    0.5  0.333333   \n",
      "3  280    0.235294      0.75     0.508690  0.399404     1.0    0.5  0.000000   \n",
      "4  656    0.823529      0.25     0.000000  0.050188     1.0    0.5  0.000000   \n",
      "\n",
      "   LandContour  Utilities  LotConfig  LandSlope  Neighborhood  Condition1  \\\n",
      "0     0.333333        1.0       0.75        0.0      0.772727         0.4   \n",
      "1     0.333333        1.0       0.00        0.0      0.363636         0.0   \n",
      "2     0.000000        1.0       0.25        0.0      0.227273         0.4   \n",
      "3     0.333333        1.0       0.00        0.0      0.727273         0.4   \n",
      "4     0.333333        1.0       0.00        0.0      0.090909         0.4   \n",
      "\n",
      "   Condition2  BldgType  HouseStyle  OverallQual  OverallCond  YearBuilt  \\\n",
      "0         1.0      0.75         0.6     0.555556        0.250   0.615942   \n",
      "1         1.0      0.75         0.2     0.555556        0.750   0.500000   \n",
      "2         1.0      0.75         0.2     0.444444        0.375   0.565217   \n",
      "3         1.0      0.75         1.0     0.666667        0.500   0.760870   \n",
      "4         1.0      0.50         1.0     0.555556        0.500   0.717391   \n",
      "\n",
      "   YearRemodAdd  RoofStyle  RoofMatl  Exterior1st  Exterior2nd  MasVnrType  \\\n",
      "0      0.416667        0.5       0.0          0.2          0.5    0.333333   \n",
      "1      0.000000        0.0       0.0          0.2          0.2    0.000000   \n",
      "2      0.000000        0.0       0.0          0.3          0.3    0.333333   \n",
      "3      0.450000        0.5       0.0          0.7          0.7    0.666667   \n",
      "4      0.350000        0.0       0.0          0.5          0.5    0.666667   \n",
      "\n",
      "   MasVnrArea  ExterQual  ExterCond  Foundation  BsmtQual  BsmtCond  \\\n",
      "0    0.000000   0.666667        1.0         1.0      0.50      0.75   \n",
      "1    0.000000   0.333333        1.0         0.5      0.50      0.75   \n",
      "2    0.100625   0.333333        1.0         0.5      0.50      0.75   \n",
      "3    0.186875   0.333333        1.0         0.5      0.75      0.75   \n",
      "4    0.238125   0.333333        1.0         0.5      0.50      0.75   \n",
      "\n",
      "   BsmtExposure  BsmtFinType1  BsmtFinSF1  BsmtFinType2  BsmtFinSF2  \\\n",
      "0          0.25      0.500000    0.215982      0.666667     0.00000   \n",
      "1          0.25      0.333333    0.071403      0.500000     0.11194   \n",
      "2          0.25      0.166667    0.032778      0.666667     0.00000   \n",
      "3          0.25      0.333333    0.069454      0.666667     0.00000   \n",
      "4          0.25      0.833333    0.000000      0.666667     0.00000   \n",
      "\n",
      "   BsmtUnfSF  TotalBsmtSF  Heating  HeatingQC  CentralAir  Electrical  \\\n",
      "0   0.379006     0.333061      1.0        0.5         1.0    1.000000   \n",
      "1   0.110543     0.131915      1.0        0.5         1.0    0.666667   \n",
      "2   0.243381     0.116039      1.0        0.5         1.0    1.000000   \n",
      "3   0.356712     0.189853      1.0        1.0         1.0    1.000000   \n",
      "4   0.243846     0.085925      1.0        0.5         1.0    1.000000   \n",
      "\n",
      "   1stFlrSF  2ndFlrSF  LowQualFinSF  GrLivArea  BsmtFullBath  BsmtHalfBath  \\\n",
      "0  0.764014  0.000000           0.0   0.714182      0.333333           0.0   \n",
      "1  0.398758  0.331197           0.0   0.549294      0.333333           0.0   \n",
      "2  0.406964  0.119658           0.0   0.453307      0.333333           0.0   \n",
      "3  0.469855  0.462607           0.0   0.636999      0.000000           0.0   \n",
      "4  0.171149  0.302885           0.0   0.419061      0.000000           0.0   \n",
      "\n",
      "   FullBath  HalfBath  BedroomAbvGr  KitchenAbvGr  KitchenQual  TotRmsAbvGrd  \\\n",
      "0  1.000000       0.0         0.500      0.666667     0.333333      0.583333   \n",
      "1  0.333333       0.0         0.375      0.333333     0.000000      0.250000   \n",
      "2  0.333333       0.0         0.375      0.333333     0.666667      0.250000   \n",
      "3  0.666667       0.5         0.500      0.333333     0.333333      0.500000   \n",
      "4  0.333333       0.5         0.375      0.333333     0.333333      0.333333   \n",
      "\n",
      "   Functional  Fireplaces  FireplaceQu  GarageType  GarageYrBlt  GarageFinish  \\\n",
      "0         0.0    0.666667          0.6         0.8     0.681818      0.666667   \n",
      "1         1.0    0.666667          0.6         0.8     0.372727      0.333333   \n",
      "2         1.0    0.333333          0.6         0.4     0.454545      0.333333   \n",
      "3         1.0    0.333333          0.6         0.8     0.700000      1.000000   \n",
      "4         1.0    0.000000          0.2         0.4     0.645455      0.333333   \n",
      "\n",
      "   GarageCars  GarageArea  GarageQual  GarageCond  PavedDrive  WoodDeckSF  \\\n",
      "0        0.50    0.341326    0.666667         1.0         1.0    0.000000   \n",
      "1        0.25    0.169252    0.666667         1.0         1.0    0.000000   \n",
      "2        0.25    0.248237    0.666667         1.0         1.0    0.000000   \n",
      "3        0.50    0.356135    0.666667         1.0         1.0    0.336056   \n",
      "4        0.25    0.186178    0.666667         1.0         1.0    0.000000   \n",
      "\n",
      "   OpenPorchSF  EnclosedPorch  3SsnPorch  ScreenPorch  PoolArea  PoolQC  \\\n",
      "0     0.000000       0.362319        0.0          0.0       0.0     0.0   \n",
      "1     0.000000       0.057971        0.0          0.0       0.0     0.0   \n",
      "2     0.000000       0.449275        0.0          0.0       0.0     0.0   \n",
      "3     0.213894       0.000000        0.0          0.0       0.0     0.0   \n",
      "4     0.000000       0.000000        0.0          0.0       0.0     0.0   \n",
      "\n",
      "   Fence  MiscFeature  MiscVal    MoSold  YrSold  SaleType  SaleCondition  \\\n",
      "0   1.00          1.0      0.0  0.181818    0.25  0.666667           0.00   \n",
      "1   0.25          1.0      0.0  0.636364    0.00  0.666667           0.75   \n",
      "2   1.00          1.0      0.0  0.545455    0.75  0.666667           0.75   \n",
      "3   1.00          1.0      0.0  0.181818    0.50  0.666667           0.75   \n",
      "4   1.00          1.0      0.0  0.181818    1.00  0.666667           0.50   \n",
      "\n",
      "   SalePrice  LotFrontage_na  MasVnrArea_na  GarageYrBlt_na  \n",
      "0  12.209188             1.0            1.0             0.0  \n",
      "1  11.798104             0.0            0.0             0.0  \n",
      "2  11.608236             1.0            0.0             0.0  \n",
      "3  12.165251             0.0            0.0             0.0  \n",
      "4  11.385092             0.0            0.0             0.0  \n"
     ]
    }
   ],
   "source": [
    "X_train=pd.read_csv('xtrain.csv')\n",
    "X_test=pd.read_csv('xtest.csv')\n",
    "\n",
    "print(X_train.shape)\n",
    "print(X_train.head())\n",
    "print(X_test.shape)\n",
    "print(X_test.head())"
   ]
  },
  {
   "cell_type": "code",
   "execution_count": 7,
   "metadata": {},
   "outputs": [
    {
     "name": "stdout",
     "output_type": "stream",
     "text": [
      "(1314, 83)\n",
      "(146, 83)\n"
     ]
    }
   ],
   "source": [
    "y_train=X_train['SalePrice']\n",
    "y_test=X_test['SalePrice']\n",
    "\n",
    "X_train.drop(['SalePrice'],axis=1,inplace=True)\n",
    "X_test.drop(['SalePrice'],axis=1,inplace=True)   \n",
    "\n",
    "X_train_original=X_train.copy()\n",
    "X_test_original=X_test.copy()\n",
    "\n",
    "#print(X_train_original.shape)\n",
    "#print(X_test_original.shape)"
   ]
  },
  {
   "cell_type": "markdown",
   "metadata": {},
   "source": [
    "## Basic Filters\n",
    "\n",
    "### Remove features that have unique value in each observation\n",
    "\n"
   ]
  },
  {
   "cell_type": "code",
   "execution_count": 8,
   "metadata": {},
   "outputs": [
    {
     "data": {
      "text/plain": [
       "((1314, 82), (146, 82))"
      ]
     },
     "execution_count": 8,
     "metadata": {},
     "output_type": "execute_result"
    }
   ],
   "source": [
    "uniq_val_features = [var for var in X_train.columns\n",
    "                         if len(X_train[var].unique())==len(X_train)]\n",
    "\n",
    "X_train.drop(labels = uniq_val_features, axis=1, inplace=True)\n",
    "X_test.drop(labels = uniq_val_features, axis=1, inplace=True)\n",
    "\n",
    "X_train.shape, X_test.shape"
   ]
  },
  {
   "cell_type": "markdown",
   "metadata": {},
   "source": [
    "### Remove constant features"
   ]
  },
  {
   "cell_type": "code",
   "execution_count": 9,
   "metadata": {},
   "outputs": [
    {
     "data": {
      "text/plain": [
       "((1314, 82), (146, 82))"
      ]
     },
     "execution_count": 9,
     "metadata": {},
     "output_type": "execute_result"
    }
   ],
   "source": [
    "constant_features = [var for var in X_train.columns\n",
    "                     if X_train[var].std() == 0]\n",
    "\n",
    "X_train.drop(labels = constant_features, axis = 1, inplace = True)\n",
    "X_test.drop(labels = constant_features, axis = 1, inplace = True)\n",
    "\n",
    "X_train.shape, X_test.shape"
   ]
  },
  {
   "cell_type": "markdown",
   "metadata": {},
   "source": [
    "### Remove Quasi-constant features"
   ]
  },
  {
   "cell_type": "code",
   "execution_count": 10,
   "metadata": {},
   "outputs": [
    {
     "data": {
      "text/plain": [
       "((1314, 76), (146, 76))"
      ]
     },
     "execution_count": 10,
     "metadata": {},
     "output_type": "execute_result"
    }
   ],
   "source": [
    "quasi_constant_features = []\n",
    "\n",
    "for feat in X_train.columns:\n",
    "    majority = (X_train[feat].value_counts()/len(X_train)).sort_values(ascending=False).values[0]\n",
    "    if majority > 0.99:\n",
    "        quasi_constant_features.append(feat)\n",
    "\n",
    "X_train.drop(labels = quasi_constant_features, axis = 1, inplace = True)\n",
    "X_test.drop(labels = quasi_constant_features, axis = 1, inplace = True)\n",
    "\n",
    "X_train.shape, X_test.shape"
   ]
  },
  {
   "cell_type": "markdown",
   "metadata": {},
   "source": [
    "### Remove duplicate features"
   ]
  },
  {
   "cell_type": "code",
   "execution_count": 11,
   "metadata": {},
   "outputs": [
    {
     "data": {
      "text/plain": [
       "((1314, 76), (146, 76))"
      ]
     },
     "execution_count": 11,
     "metadata": {},
     "output_type": "execute_result"
    }
   ],
   "source": [
    "duplicate_features = []\n",
    "\n",
    "for m in range(0,len(X_train.columns)):\n",
    "    col1 = X_train.columns[m]\n",
    "    \n",
    "    for col2 in X_train.columns[m + 1:]:\n",
    "        \n",
    "        if X_train[col1].equals(X_train[col2]):\n",
    "            duplicate_features.append(col2)\n",
    "\n",
    "len(duplicate_features)\n",
    "\n",
    "X_train.drop(labels = duplicate_features, axis = 1, inplace = True)\n",
    "X_test.drop(labels = duplicate_features, axis = 1, inplace = True)\n",
    "\n",
    "X_train.shape, X_test.shape"
   ]
  },
  {
   "cell_type": "code",
   "execution_count": 13,
   "metadata": {},
   "outputs": [],
   "source": [
    "X_train_basic = X_train.copy()\n",
    "X_test_basic = X_test.copy()\n",
    "pd.Series(X_train_basic.columns).to_csv('features_basic.csv',index=False)"
   ]
  },
  {
   "cell_type": "markdown",
   "metadata": {},
   "source": [
    "## Remove correlated features"
   ]
  },
  {
   "cell_type": "code",
   "execution_count": 14,
   "metadata": {},
   "outputs": [
    {
     "data": {
      "text/plain": [
       "((1314, 71), (146, 71))"
      ]
     },
     "execution_count": 14,
     "metadata": {},
     "output_type": "execute_result"
    }
   ],
   "source": [
    "def correlation(dataset,threshold):\n",
    "    correlated_features = set()\n",
    "    corr_matrix = dataset.corr()\n",
    "    for i in range(len(corr_matrix.columns)):\n",
    "        for j in range(i):\n",
    "            if corr_matrix.iloc[i,j] > threshold:\n",
    "                col = corr_matrix.columns[i]\n",
    "                correlated_features.add(col)\n",
    "    return correlated_features\n",
    "\n",
    "correlated_features = correlation(X_train,0.8)\n",
    "len(correlated_features)           \n",
    "\n",
    "X_train.drop(labels = correlated_features, axis = 1, inplace = True)\n",
    "X_test.drop(labels = correlated_features, axis = 1, inplace = True)\n",
    "\n",
    "X_train.shape, X_test.shape"
   ]
  },
  {
   "cell_type": "code",
   "execution_count": 15,
   "metadata": {},
   "outputs": [],
   "source": [
    "X_train_correlation = X_train.copy()\n",
    "X_test_correlation = X_test.copy()\n",
    "\n",
    "pd.Series(X_train_correlation.columns).to_csv('features_correlation.csv',index=False)"
   ]
  },
  {
   "cell_type": "markdown",
   "metadata": {},
   "source": [
    "## Remove features using Univariate MSE values"
   ]
  },
  {
   "cell_type": "code",
   "execution_count": 16,
   "metadata": {},
   "outputs": [
    {
     "data": {
      "text/plain": [
       "((1314, 61), (146, 61))"
      ]
     },
     "execution_count": 16,
     "metadata": {},
     "output_type": "execute_result"
    },
    {
     "data": {
      "image/png": "[encoded data removed]",
      "text/plain": [
       "<Figure size 1440x576 with 1 Axes>"
      ]
     },
     "metadata": {
      "needs_background": "light"
     },
     "output_type": "display_data"
    }
   ],
   "source": [
    "mse_values = []\n",
    "for feature in X_train.columns:\n",
    "    dtr = DecisionTreeRegressor()\n",
    "    dtr.fit(X_train[feature].to_frame(),y_train)\n",
    "    y_pred = dtr.predict(X_test[feature].to_frame())\n",
    "    mse_values.append(mean_squared_error(np.exp(y_test),np.exp(y_pred)))\n",
    "\n",
    "mse_values = pd.Series(mse_values)\n",
    "mse_values.index = X_train.columns\n",
    "mse_values.sort_values(ascending=False).plot.bar(figsize=(20,8))\n",
    "\n",
    "high_mse_features = mse_values.sort_values(ascending=False)[:10]\n",
    "\n",
    "X_train.drop(labels = high_mse_features.index, axis = 1, inplace = True)\n",
    "X_test.drop(labels = high_mse_features.index, axis = 1, inplace = True)\n",
    "\n",
    "X_train.shape, X_test.shape"
   ]
  },
  {
   "cell_type": "code",
   "execution_count": 17,
   "metadata": {},
   "outputs": [],
   "source": [
    "X_train_mse = X_train.copy()\n",
    "X_test_mse = X_test.copy()\n",
    "\n",
    "pd.Series(X_train_mse.columns).to_csv('features_mse.csv',index=False)"
   ]
  },
  {
   "cell_type": "markdown",
   "metadata": {},
   "source": [
    "## Feature Selection using Lasso algorithm"
   ]
  },
  {
   "cell_type": "code",
   "execution_count": 18,
   "metadata": {},
   "outputs": [
    {
     "data": {
      "text/plain": [
       "array([ True,  True, False, False, False, False, False,  True, False,\n",
       "       False, False,  True,  True, False,  True, False, False, False,\n",
       "       False, False, False,  True, False,  True, False, False, False,\n",
       "       False, False,  True,  True, False,  True, False, False,  True,\n",
       "        True, False, False, False, False, False,  True, False,  True,\n",
       "        True, False,  True,  True, False,  True, False, False, False,\n",
       "       False, False, False, False, False, False, False])"
      ]
     },
     "execution_count": 18,
     "metadata": {},
     "output_type": "execute_result"
    }
   ],
   "source": [
    "sfm_=SelectFromModel(estimator=Lasso(alpha=0.005,random_state=1))\n",
    "\n",
    "sfm_.fit(X_train,y_train)\n",
    "\n",
    "sfm_.get_support()"
   ]
  },
  {
   "cell_type": "code",
   "execution_count": 19,
   "metadata": {},
   "outputs": [
    {
     "name": "stdout",
     "output_type": "stream",
     "text": [
      "Total Features: 61\n",
      "Selected Features: 19\n",
      "Features with coefficient shrank to zero: 42\n"
     ]
    }
   ],
   "source": [
    "selected_feat=X_train.columns[(sfm_.get_support())]\n",
    "print('Total Features: {}'.format(X_train.shape[1]))\n",
    "print('Selected Features: {}'.format(len(selected_feat)))\n",
    "print('Features with coefficient shrank to zero: {}'.format(np.sum(sfm_.estimator_.coef_==0)))"
   ]
  },
  {
   "cell_type": "code",
   "execution_count": 20,
   "metadata": {},
   "outputs": [
    {
     "name": "stdout",
     "output_type": "stream",
     "text": [
      "Selected features are : Index(['MSSubClass', 'MSZoning', 'Neighborhood', 'OverallQual', 'OverallCond',\n",
      "       'YearRemodAdd', 'BsmtQual', 'BsmtExposure', 'HeatingQC', 'CentralAir',\n",
      "       '1stFlrSF', 'GrLivArea', 'BsmtFullBath', 'KitchenQual', 'Fireplaces',\n",
      "       'GarageType', 'GarageFinish', 'GarageCars', 'PavedDrive'],\n",
      "      dtype='object')\n"
     ]
    }
   ],
   "source": [
    "print('Selected features are :',selected_feat)"
   ]
  },
  {
   "cell_type": "code",
   "execution_count": 25,
   "metadata": {},
   "outputs": [],
   "source": [
    "pd.Series(selected_feat).to_csv('features_lasso.csv',index=False)"
   ]
  },
  {
   "cell_type": "markdown",
   "metadata": {},
   "source": [
    "## Feature selection using Random Forest algorithm"
   ]
  },
  {
   "cell_type": "code",
   "execution_count": 22,
   "metadata": {},
   "outputs": [],
   "source": [
    "rfr = SelectFromModel(estimator = RandomForestRegressor(n_estimators = 100))\n",
    "rfr.fit(X_train, y_train)\n",
    "selected_feat_rfr = X_train.columns[(rfr.get_support())]"
   ]
  },
  {
   "cell_type": "code",
   "execution_count": 23,
   "metadata": {},
   "outputs": [
    {
     "name": "stdout",
     "output_type": "stream",
     "text": [
      "7\n"
     ]
    },
    {
     "data": {
      "text/plain": [
       "Index(['Neighborhood', 'OverallQual', 'BsmtFinSF1', 'TotalBsmtSF', '1stFlrSF',\n",
       "       'GrLivArea', 'GarageCars'],\n",
       "      dtype='object')"
      ]
     },
     "execution_count": 23,
     "metadata": {},
     "output_type": "execute_result"
    }
   ],
   "source": [
    "print(len(selected_feat_rfr))\n",
    "selected_feat_rfr"
   ]
  },
  {
   "cell_type": "code",
   "execution_count": 24,
   "metadata": {},
   "outputs": [],
   "source": [
    "pd.Series(selected_feat_rfr).to_csv('features_randomforest.csv',index=False)"
   ]
  }
 ],
 "metadata": {
  "kernelspec": {
   "display_name": "Python 3",
   "language": "python",
   "name": "python3"
  },
  "language_info": {
   "codemirror_mode": {
    "name": "ipython",
    "version": 3
   },
   "file_extension": ".py",
   "mimetype": "text/x-python",
   "name": "python",
   "nbconvert_exporter": "python",
   "pygments_lexer": "ipython3",
   "version": "3.7.3"
  }
 },
 "nbformat": 4,
 "nbformat_minor": 2
}
