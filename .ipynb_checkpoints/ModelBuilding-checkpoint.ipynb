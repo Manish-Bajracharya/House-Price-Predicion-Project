{
 "cells": [
  {
   "cell_type": "markdown",
   "metadata": {},
   "source": [
    "# House Price dataset : Model Building\n",
    "\n",
    "In this notebook, firstly, we will use **Regularised Linear Regression - Lasso** to predict our target variable. We will use **MSE, RMSE and R2** for evaluation. We will also look at feature importance.\n",
    "\n",
    "Secondly, we will use **Random Forest Regressor** to predict house prices and will use the same metrics for evaluation."
   ]
  },
  {
   "cell_type": "code",
   "execution_count": 1,
   "metadata": {},
   "outputs": [],
   "source": [
    "import pandas as pd\n",
    "import numpy as np\n",
    "import matplotlib.pyplot as plt\n",
    "from sklearn.linear_model import Lasso\n",
    "from sklearn.metrics import mean_squared_error\n",
    "from sklearn.metrics import r2_score\n",
    "from math import sqrt\n",
    "from sklearn.ensemble import RandomForestRegressor"
   ]
  },
  {
   "cell_type": "code",
   "execution_count": 2,
   "metadata": {},
   "outputs": [
    {
     "data": {
      "text/plain": [
       "((1314, 84), (146, 84))"
      ]
     },
     "execution_count": 2,
     "metadata": {},
     "output_type": "execute_result"
    }
   ],
   "source": [
    "X_train=pd.read_csv('xtrain.csv')\n",
    "X_test=pd.read_csv('xtest.csv')\n",
    "X_train.shape, X_test.shape"
   ]
  },
  {
   "cell_type": "code",
   "execution_count": 3,
   "metadata": {},
   "outputs": [],
   "source": [
    "y_train=X_train['SalePrice']\n",
    "y_test=X_test['SalePrice']"
   ]
  },
  {
   "cell_type": "markdown",
   "metadata": {},
   "source": [
    "**Data with basic filters applied**"
   ]
  },
  {
   "cell_type": "code",
   "execution_count": 4,
   "metadata": {},
   "outputs": [
    {
     "data": {
      "text/plain": [
       "((1314, 76), (146, 76))"
      ]
     },
     "execution_count": 4,
     "metadata": {},
     "output_type": "execute_result"
    }
   ],
   "source": [
    "features_basic=pd.read_csv('features_basic.csv',header = None)\n",
    "features_basic=features_basic[0].to_list()\n",
    "X_train_basic = X_train[features_basic]\n",
    "X_test_basic = X_test[features_basic]\n",
    "X_train_basic.shape, X_test_basic.shape"
   ]
  },
  {
   "cell_type": "markdown",
   "metadata": {},
   "source": [
    "**Data with Correlation filter applied**"
   ]
  },
  {
   "cell_type": "code",
   "execution_count": 5,
   "metadata": {},
   "outputs": [
    {
     "data": {
      "text/plain": [
       "((1314, 71), (146, 71))"
      ]
     },
     "execution_count": 5,
     "metadata": {},
     "output_type": "execute_result"
    }
   ],
   "source": [
    "features_correlation=pd.read_csv('features_correlation.csv',header = None)\n",
    "features_correlation=features_correlation[0].to_list()\n",
    "X_train_correlation = X_train[features_correlation]\n",
    "X_test_correlation = X_test[features_correlation]\n",
    "X_train_correlation.shape, X_test_correlation.shape"
   ]
  },
  {
   "cell_type": "markdown",
   "metadata": {},
   "source": [
    "**Data with Univariate MSE filter applied**"
   ]
  },
  {
   "cell_type": "code",
   "execution_count": 8,
   "metadata": {},
   "outputs": [
    {
     "data": {
      "text/plain": [
       "((1314, 61), (146, 61))"
      ]
     },
     "execution_count": 8,
     "metadata": {},
     "output_type": "execute_result"
    }
   ],
   "source": [
    "features_mse=pd.read_csv('features_mse.csv',header = None)\n",
    "features_mse=features_mse[0].to_list()\n",
    "X_train_mse = X_train[features_mse]\n",
    "X_test_mse = X_test[features_mse]\n",
    "X_train_mse.shape, X_test_mse.shape"
   ]
  },
  {
   "cell_type": "markdown",
   "metadata": {},
   "source": [
    "**Data with Lasso filter applied**"
   ]
  },
  {
   "cell_type": "code",
   "execution_count": 10,
   "metadata": {},
   "outputs": [
    {
     "data": {
      "text/plain": [
       "((1314, 19), (146, 19))"
      ]
     },
     "execution_count": 10,
     "metadata": {},
     "output_type": "execute_result"
    }
   ],
   "source": [
    "features_lasso=pd.read_csv('features_lasso.csv',header = None)\n",
    "features_lasso=features_lasso[0].to_list()\n",
    "X_train_lasso = X_train[features_lasso]\n",
    "X_test_lasso = X_test[features_lasso]\n",
    "X_train_lasso.shape, X_test_lasso.shape"
   ]
  },
  {
   "cell_type": "markdown",
   "metadata": {},
   "source": [
    "**Data with RandomForest filter applied**"
   ]
  },
  {
   "cell_type": "code",
   "execution_count": 11,
   "metadata": {},
   "outputs": [
    {
     "data": {
      "text/plain": [
       "((1314, 7), (146, 7))"
      ]
     },
     "execution_count": 11,
     "metadata": {},
     "output_type": "execute_result"
    }
   ],
   "source": [
    "features_randomforest=pd.read_csv('features_randomforest.csv',header = None)\n",
    "features_randomforest=features_randomforest[0].to_list()\n",
    "X_train_randomforest = X_train[features_randomforest]\n",
    "X_test_randomforest = X_test[features_randomforest]\n",
    "X_train_randomforest.shape, X_test_randomforest.shape"
   ]
  },
  {
   "cell_type": "markdown",
   "metadata": {},
   "source": [
    "## Model using Lasso Regression"
   ]
  },
  {
   "cell_type": "code",
   "execution_count": 12,
   "metadata": {
    "scrolled": true
   },
   "outputs": [],
   "source": [
    "def run_linearmodel(X_train, X_test, y_train, y_test):\n",
    "      \n",
    "    lin_model = Lasso(alpha = 0.005, random_state = 0)\n",
    "    lin_model.fit(X_train,y_train)\n",
    "    \n",
    "    print('\\n\\nTrain Set')\n",
    "    pred_train = lin_model.predict(X_train)\n",
    "    print('MSE : {}'.format(float(mean_squared_error(y_train,pred_train))))\n",
    "    print('RMSE : {}'.format(float(sqrt(mean_squared_error(y_train,pred_train)))))\n",
    "    print('Score : {}'.format(r2_score(np.exp(y_train),np.exp(pred_train))))\n",
    "\n",
    "    print('\\nFor Test Set')\n",
    "    pred_test=lin_model.predict(X_test)\n",
    "    print('MSE : {}'.format(float(mean_squared_error(y_test,pred_test))))\n",
    "    print('RMSE : {}'.format(float(sqrt(mean_squared_error(y_test,pred_test)))))\n",
    "    print('Score : {}'.format(r2_score(np.exp(y_test),np.exp(pred_test))))\n"
   ]
  },
  {
   "cell_type": "code",
   "execution_count": 14,
   "metadata": {},
   "outputs": [
    {
     "name": "stdout",
     "output_type": "stream",
     "text": [
      "\n",
      "\n",
      "Train Set\n",
      "MSE : 0.022799200369114456\n",
      "RMSE : 0.15099404083974458\n",
      "Score : 0.8245336225371996\n",
      "\n",
      "For Test Set\n",
      "MSE : 0.019351257416024805\n",
      "RMSE : 0.13910879704758\n",
      "Score : 0.7910137781987472\n"
     ]
    }
   ],
   "source": [
    "# Basic filter\n",
    "run_linearmodel(X_train_basic, X_test_basic, y_train, y_test)"
   ]
  },
  {
   "cell_type": "code",
   "execution_count": 15,
   "metadata": {},
   "outputs": [
    {
     "name": "stdout",
     "output_type": "stream",
     "text": [
      "\n",
      "\n",
      "Train Set\n",
      "MSE : 0.02276219978383938\n",
      "RMSE : 0.1508714677592797\n",
      "Score : 0.824908252783443\n",
      "\n",
      "For Test Set\n",
      "MSE : 0.01913981689371488\n",
      "RMSE : 0.13834672707988027\n",
      "Score : 0.8001891290458354\n"
     ]
    }
   ],
   "source": [
    "# Correlation filter\n",
    "run_linearmodel(X_train_correlation, X_test_correlation, y_train, y_test)"
   ]
  },
  {
   "cell_type": "code",
   "execution_count": 16,
   "metadata": {},
   "outputs": [
    {
     "name": "stdout",
     "output_type": "stream",
     "text": [
      "\n",
      "\n",
      "Train Set\n",
      "MSE : 0.02276225384020302\n",
      "RMSE : 0.1508716469062462\n",
      "Score : 0.8249090789438741\n",
      "\n",
      "For Test Set\n",
      "MSE : 0.019140013656973858\n",
      "RMSE : 0.13834743820170237\n",
      "Score : 0.8001892653510313\n"
     ]
    }
   ],
   "source": [
    "# MSE filter\n",
    "run_linearmodel(X_train_mse, X_test_mse, y_train, y_test)"
   ]
  },
  {
   "cell_type": "code",
   "execution_count": 17,
   "metadata": {},
   "outputs": [
    {
     "name": "stdout",
     "output_type": "stream",
     "text": [
      "\n",
      "\n",
      "Train Set\n",
      "MSE : 0.022763802641060607\n",
      "RMSE : 0.1508767796616186\n",
      "Score : 0.824906769552321\n",
      "\n",
      "For Test Set\n",
      "MSE : 0.019144179872688613\n",
      "RMSE : 0.1383624944581754\n",
      "Score : 0.8001671143342528\n"
     ]
    }
   ],
   "source": [
    "# Lasso filter\n",
    "run_linearmodel(X_train_lasso, X_test_lasso, y_train, y_test)"
   ]
  },
  {
   "cell_type": "markdown",
   "metadata": {},
   "source": [
    "**Let's plot scatterplot with prediction and real value for evaluation**"
   ]
  },
  {
   "cell_type": "code",
   "execution_count": 37,
   "metadata": {},
   "outputs": [
    {
     "data": {
      "text/plain": [
       "Text(0.5, 1.0, 'Evaluation of Lasso prediction')"
      ]
     },
     "execution_count": 37,
     "metadata": {},
     "output_type": "execute_result"
    },
    {
     "data": {
      "image/png": "[encoded data removed]",
      "text/plain": [
       "<Figure size 432x288 with 1 Axes>"
      ]
     },
     "metadata": {
      "needs_background": "light"
     },
     "output_type": "display_data"
    }
   ],
   "source": [
    "lin_model = Lasso(alpha = 0.005, random_state = 0)\n",
    "lin_model.fit(X_train_lasso,y_train)\n",
    "pred_lin_test = lin_model.predict(X_test_lasso)\n",
    "plt.scatter(y_test,pred_lin_test)\n",
    "plt.xlabel('True House Price')\n",
    "plt.ylabel('Predicted House Price')\n",
    "plt.title('Evaluation of Lasso prediction')"
   ]
  },
  {
   "cell_type": "markdown",
   "metadata": {},
   "source": [
    "We can see that our model performance is quite good in estimating house price."
   ]
  },
  {
   "cell_type": "markdown",
   "metadata": {},
   "source": [
    "**Let's see the distribution of errors**"
   ]
  },
  {
   "cell_type": "code",
   "execution_count": 38,
   "metadata": {},
   "outputs": [
    {
     "data": {
      "text/plain": [
       "<matplotlib.axes._subplots.AxesSubplot at 0x1f335f4bef0>"
      ]
     },
     "execution_count": 38,
     "metadata": {},
     "output_type": "execute_result"
    },
    {
     "data": {
      "image/png": "[encoded data removed]",
      "text/plain": [
       "<Figure size 432x288 with 1 Axes>"
      ]
     },
     "metadata": {
      "needs_background": "light"
     },
     "output_type": "display_data"
    }
   ],
   "source": [
    "residual_lin=y_test-pred_lin_test\n",
    "residual_lin.hist(bins=30)"
   ]
  },
  {
   "cell_type": "markdown",
   "metadata": {},
   "source": [
    "We can see here as well that errors are normally distributed, which suggests that the model performance is good. "
   ]
  },
  {
   "cell_type": "markdown",
   "metadata": {},
   "source": [
    "## Feature Importance using Lasso algorithm"
   ]
  },
  {
   "cell_type": "code",
   "execution_count": 43,
   "metadata": {},
   "outputs": [
    {
     "data": {
      "text/plain": [
       "Text(0.5, 0, 'Feature Importance')"
      ]
     },
     "execution_count": 43,
     "metadata": {},
     "output_type": "execute_result"
    },
    {
     "data": {
      "image/png": "[encoded data removed]",
      "text/plain": [
       "<Figure size 1080x432 with 1 Axes>"
      ]
     },
     "metadata": {
      "needs_background": "light"
     },
     "output_type": "display_data"
    }
   ],
   "source": [
    "importance = pd.Series(np.abs(lin_model.coef_.ravel()))\n",
    "importance.index=features_lasso\n",
    "importance.sort_values(ascending=False).plot.bar(figsize=(15,6))\n",
    "plt.ylabel('Lasso Coefficients')\n",
    "plt.xlabel('Feature Importance')"
   ]
  },
  {
   "cell_type": "markdown",
   "metadata": {},
   "source": [
    "Here we can see that GrLivArea,OverallQual and Neighorhood are some of the most important features which impact a house price."
   ]
  },
  {
   "cell_type": "markdown",
   "metadata": {},
   "source": [
    "## Model using Random Forest Regressor"
   ]
  },
  {
   "cell_type": "code",
   "execution_count": 18,
   "metadata": {},
   "outputs": [],
   "source": [
    "def run_randomforest(X_train, X_test, y_train, y_test):\n",
    "      \n",
    "    rfr = RandomForestRegressor(n_estimators = 200, random_state = 0, max_depth = None)\n",
    "    rfr.fit(X_train,y_train)\n",
    "    \n",
    "    print('\\n\\nTrain Set')\n",
    "    pred_train = rfr.predict(X_train)\n",
    "    print('MSE : {}'.format(float(mean_squared_error(y_train,pred_train))))\n",
    "    print('RMSE : {}'.format(float(sqrt(mean_squared_error(y_train,pred_train)))))\n",
    "    print('Score : {}'.format(r2_score(np.exp(y_train),np.exp(pred_train))))\n",
    "\n",
    "    print('\\nFor Test Set')\n",
    "    pred_test = rfr.predict(X_test)\n",
    "    print('MSE : {}'.format(float(mean_squared_error(y_test,pred_test))))\n",
    "    print('RMSE : {}'.format(float(sqrt(mean_squared_error(y_test,pred_test)))))\n",
    "    print('Score : {}'.format(r2_score(np.exp(y_test),np.exp(pred_test))))\n"
   ]
  },
  {
   "cell_type": "code",
   "execution_count": 20,
   "metadata": {},
   "outputs": [
    {
     "name": "stdout",
     "output_type": "stream",
     "text": [
      "\n",
      "\n",
      "Train Set\n",
      "MSE : 0.00277383769914347\n",
      "RMSE : 0.05266723553731931\n",
      "Score : 0.9810344992293483\n",
      "\n",
      "For Test Set\n",
      "MSE : 0.014373652880026145\n",
      "RMSE : 0.11989017007255492\n",
      "Score : 0.8510306279053316\n"
     ]
    }
   ],
   "source": [
    "# Basic filters\n",
    "run_randomforest(X_train_basic, X_test_basic, y_train, y_test)"
   ]
  },
  {
   "cell_type": "code",
   "execution_count": 21,
   "metadata": {},
   "outputs": [
    {
     "name": "stdout",
     "output_type": "stream",
     "text": [
      "\n",
      "\n",
      "Train Set\n",
      "MSE : 0.002754226076159475\n",
      "RMSE : 0.052480720995042314\n",
      "Score : 0.9813292004874181\n",
      "\n",
      "For Test Set\n",
      "MSE : 0.014972556746839416\n",
      "RMSE : 0.12236239923620089\n",
      "Score : 0.8491764280310587\n"
     ]
    }
   ],
   "source": [
    "# Correlation filter\n",
    "run_randomforest(X_train_correlation, X_test_correlation, y_train, y_test)"
   ]
  },
  {
   "cell_type": "code",
   "execution_count": 22,
   "metadata": {},
   "outputs": [
    {
     "name": "stdout",
     "output_type": "stream",
     "text": [
      "\n",
      "\n",
      "Train Set\n",
      "MSE : 0.002766933363195562\n",
      "RMSE : 0.052601647913307445\n",
      "Score : 0.9810903941096394\n",
      "\n",
      "For Test Set\n",
      "MSE : 0.01482803315937401\n",
      "RMSE : 0.12177041167448688\n",
      "Score : 0.8675943587514262\n"
     ]
    }
   ],
   "source": [
    "# MSE filter\n",
    "run_randomforest(X_train_mse, X_test_mse, y_train, y_test)"
   ]
  },
  {
   "cell_type": "code",
   "execution_count": 23,
   "metadata": {},
   "outputs": [
    {
     "name": "stdout",
     "output_type": "stream",
     "text": [
      "\n",
      "\n",
      "Train Set\n",
      "MSE : 0.0033184532449825875\n",
      "RMSE : 0.05760601743726594\n",
      "Score : 0.9800210755642736\n",
      "\n",
      "For Test Set\n",
      "MSE : 0.018559418893335084\n",
      "RMSE : 0.13623295817582134\n",
      "Score : 0.8858752373827535\n"
     ]
    }
   ],
   "source": [
    "# Randomforest filter\n",
    "run_randomforest(X_train_randomforest, X_test_randomforest, y_train, y_test)"
   ]
  },
  {
   "cell_type": "code",
   "execution_count": 28,
   "metadata": {},
   "outputs": [
    {
     "name": "stdout",
     "output_type": "stream",
     "text": [
      "\n",
      "\n",
      "Train Set\n",
      "MSE : 0.0027385945382219544\n",
      "RMSE : 0.05233158260765629\n",
      "Score : 0.9817949563310601\n",
      "\n",
      "For Test Set\n",
      "MSE : 0.014336883195422548\n",
      "RMSE : 0.11973672450598667\n",
      "Score : 0.8741047641951174\n"
     ]
    }
   ],
   "source": [
    "# lasso filter\n",
    "run_randomforest(X_train_lasso, X_test_lasso, y_train, y_test)"
   ]
  },
  {
   "cell_type": "markdown",
   "metadata": {},
   "source": [
    "**Let's plot scatterplot with prediction and real value for evaluation**"
   ]
  },
  {
   "cell_type": "code",
   "execution_count": 40,
   "metadata": {},
   "outputs": [
    {
     "data": {
      "text/plain": [
       "Text(0.5, 1.0, 'Evaluation of RandomForest prediction')"
      ]
     },
     "execution_count": 40,
     "metadata": {},
     "output_type": "execute_result"
    },
    {
     "data": {
      "image/png": "[encoded data removed]",
      "text/plain": [
       "<Figure size 432x288 with 1 Axes>"
      ]
     },
     "metadata": {
      "needs_background": "light"
     },
     "output_type": "display_data"
    }
   ],
   "source": [
    "rfr = RandomForestRegressor(n_estimators = 200, random_state = 0, max_depth = None)\n",
    "rfr.fit(X_train_lasso,y_train)\n",
    "pred_rf_test = rfr.predict(X_test_lasso)\n",
    "plt.scatter(y_test,pred_rf_test)\n",
    "plt.xlabel('True House Price')\n",
    "plt.ylabel('Predicted House Price')\n",
    "plt.title('Evaluation of RandomForest prediction')\n"
   ]
  },
  {
   "cell_type": "markdown",
   "metadata": {},
   "source": [
    "**Let's see the distribution of errors**"
   ]
  },
  {
   "cell_type": "code",
   "execution_count": 41,
   "metadata": {},
   "outputs": [
    {
     "data": {
      "text/plain": [
       "<matplotlib.axes._subplots.AxesSubplot at 0x1f336057b00>"
      ]
     },
     "execution_count": 41,
     "metadata": {},
     "output_type": "execute_result"
    },
    {
     "data": {
      "image/png": "[encoded data removed]",
      "text/plain": [
       "<Figure size 432x288 with 1 Axes>"
      ]
     },
     "metadata": {
      "needs_background": "light"
     },
     "output_type": "display_data"
    }
   ],
   "source": [
    "residual_rf = y_test - pred_rf_test\n",
    "residual_rf.hist(bins=30)"
   ]
  },
  {
   "cell_type": "markdown",
   "metadata": {},
   "source": [
    "## Feature Importance using Random Forest"
   ]
  },
  {
   "cell_type": "code",
   "execution_count": 34,
   "metadata": {},
   "outputs": [
    {
     "data": {
      "text/plain": [
       "Text(0.5, 0, 'Feature Importance')"
      ]
     },
     "execution_count": 34,
     "metadata": {},
     "output_type": "execute_result"
    },
    {
     "data": {
      "image/png": "[encoded data removed]",
      "text/plain": [
       "<Figure size 1080x432 with 1 Axes>"
      ]
     },
     "metadata": {
      "needs_background": "light"
     },
     "output_type": "display_data"
    }
   ],
   "source": [
    "importance_rfr = pd.Series(np.abs(rfr.feature_importances_))\n",
    "importance_rfr.index=features_lasso\n",
    "importance_rfr.sort_values(ascending=False).plot.bar(figsize=(15,6))\n",
    "plt.ylabel('Lasso Coefficients')\n",
    "plt.xlabel('Feature Importance')"
   ]
  }
 ],
 "metadata": {
  "kernelspec": {
   "display_name": "Python 3",
   "language": "python",
   "name": "python3"
  },
  "language_info": {
   "codemirror_mode": {
    "name": "ipython",
    "version": 3
   },
   "file_extension": ".py",
   "mimetype": "text/x-python",
   "name": "python",
   "nbconvert_exporter": "python",
   "pygments_lexer": "ipython3",
   "version": "3.7.3"
  }
 },
 "nbformat": 4,
 "nbformat_minor": 2
}
