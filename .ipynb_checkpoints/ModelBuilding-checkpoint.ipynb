{
 "cells": [
  {
   "cell_type": "markdown",
   "metadata": {},
   "source": [
    "# House Price dataset : Model Building\n",
    "\n",
    "In this notebook, we will use Regularised Linear Regression - Lasso to predict our target variable. We will use MSE, RMSE and R2 for evaluation. We will also look at feature importance."
   ]
  },
  {
   "cell_type": "code",
   "execution_count": 1,
   "metadata": {},
   "outputs": [],
   "source": [
    "import pandas as pd\n",
    "import numpy as np\n",
    "import matplotlib.pyplot as plt\n",
    "\n",
    "from sklearn.linear_model import Lasso\n",
    "from sklearn.metrics import mean_squared_error\n",
    "from sklearn.metrics import r2_score\n",
    "from math import sqrt"
   ]
  },
  {
   "cell_type": "code",
   "execution_count": 2,
   "metadata": {},
   "outputs": [],
   "source": [
    "X_train=pd.read_csv('xtrain.csv')\n",
    "X_test=pd.read_csv('xtest.csv')"
   ]
  },
  {
   "cell_type": "code",
   "execution_count": 3,
   "metadata": {},
   "outputs": [],
   "source": [
    "y_train=X_train['SalePrice']\n",
    "y_test=X_test['SalePrice']"
   ]
  },
  {
   "cell_type": "code",
   "execution_count": 7,
   "metadata": {},
   "outputs": [
    {
     "data": {
      "text/plain": [
       "['MSSubClass',\n",
       " 'MSZoning',\n",
       " 'Neighborhood',\n",
       " 'OverallQual',\n",
       " 'OverallCond',\n",
       " 'YearRemodAdd',\n",
       " 'BsmtQual',\n",
       " 'BsmtExposure',\n",
       " 'HeatingQC',\n",
       " 'CentralAir',\n",
       " '1stFlrSF',\n",
       " 'GrLivArea',\n",
       " 'BsmtFullBath',\n",
       " 'KitchenQual',\n",
       " 'Fireplaces',\n",
       " 'FireplaceQu',\n",
       " 'GarageType',\n",
       " 'GarageFinish',\n",
       " 'GarageCars',\n",
       " 'PavedDrive']"
      ]
     },
     "execution_count": 7,
     "metadata": {},
     "output_type": "execute_result"
    }
   ],
   "source": [
    "features=pd.read_csv('selected_features.csv')\n",
    "features=features['0'].to_list()\n",
    "features"
   ]
  },
  {
   "cell_type": "code",
   "execution_count": 9,
   "metadata": {
    "scrolled": true
   },
   "outputs": [
    {
     "name": "stdout",
     "output_type": "stream",
     "text": [
      "   MSSubClass  MSZoning  Neighborhood  OverallQual  OverallCond  YearRemodAdd  \\\n",
      "0    0.000000      0.75      0.863636     0.777778         0.50      0.950000   \n",
      "1    0.000000      0.75      0.363636     0.444444         0.75      0.933333   \n",
      "2    0.588235      0.75      1.000000     0.888889         0.50      0.916667   \n",
      "3    0.000000      0.75      0.500000     0.666667         0.50      0.800000   \n",
      "4    0.000000      0.75      0.363636     0.555556         0.50      0.233333   \n",
      "\n",
      "   BsmtQual  BsmtExposure  HeatingQC  CentralAir  1stFlrSF  GrLivArea  \\\n",
      "0      0.75          0.75       1.00         1.0  0.559760   0.523250   \n",
      "1      0.50          0.25       1.00         1.0  0.434539   0.406196   \n",
      "2      1.00          0.25       1.00         1.0  0.627205   0.586296   \n",
      "3      0.75          1.00       1.00         1.0  0.566920   0.529943   \n",
      "4      0.50          0.25       0.75         1.0  0.549026   0.513216   \n",
      "\n",
      "   BsmtFullBath  KitchenQual  Fireplaces  FireplaceQu  GarageType  \\\n",
      "0      0.000000     0.666667    0.000000          0.2         0.8   \n",
      "1      0.333333     0.666667    0.000000          0.2         0.8   \n",
      "2      0.333333     1.000000    0.333333          0.8         0.8   \n",
      "3      0.333333     0.666667    0.333333          0.4         0.8   \n",
      "4      0.000000     0.333333    0.333333          0.8         0.8   \n",
      "\n",
      "   GarageFinish  GarageCars  PavedDrive  \n",
      "0      1.000000        0.75         1.0  \n",
      "1      0.666667        0.25         1.0  \n",
      "2      0.666667        0.50         1.0  \n",
      "3      0.666667        0.50         1.0  \n",
      "4      0.666667        0.50         1.0  \n",
      "   MSSubClass  MSZoning  Neighborhood  OverallQual  OverallCond  YearRemodAdd  \\\n",
      "0    0.000000      0.75      0.772727     0.555556        0.250      0.416667   \n",
      "1    0.176471      0.75      0.363636     0.555556        0.750      0.000000   \n",
      "2    0.176471      0.75      0.227273     0.444444        0.375      0.000000   \n",
      "3    0.235294      0.75      0.727273     0.666667        0.500      0.450000   \n",
      "4    0.823529      0.25      0.090909     0.555556        0.500      0.350000   \n",
      "\n",
      "   BsmtQual  BsmtExposure  HeatingQC  CentralAir  1stFlrSF  GrLivArea  \\\n",
      "0      0.50          0.25        0.5         1.0  0.764014   0.714182   \n",
      "1      0.50          0.25        0.5         1.0  0.398758   0.549294   \n",
      "2      0.50          0.25        0.5         1.0  0.406964   0.453307   \n",
      "3      0.75          0.25        1.0         1.0  0.469855   0.636999   \n",
      "4      0.50          0.25        0.5         1.0  0.171149   0.419061   \n",
      "\n",
      "   BsmtFullBath  KitchenQual  Fireplaces  FireplaceQu  GarageType  \\\n",
      "0      0.333333     0.333333    0.666667          0.6         0.8   \n",
      "1      0.333333     0.000000    0.666667          0.6         0.8   \n",
      "2      0.333333     0.666667    0.333333          0.6         0.4   \n",
      "3      0.000000     0.333333    0.333333          0.6         0.8   \n",
      "4      0.000000     0.333333    0.000000          0.2         0.4   \n",
      "\n",
      "   GarageFinish  GarageCars  PavedDrive  \n",
      "0      0.666667        0.50         1.0  \n",
      "1      0.333333        0.25         1.0  \n",
      "2      0.333333        0.25         1.0  \n",
      "3      1.000000        0.50         1.0  \n",
      "4      0.333333        0.25         1.0  \n"
     ]
    }
   ],
   "source": [
    "X_train=X_train[features]\n",
    "X_test=X_test[features]\n",
    "\n",
    "print(X_train.head())\n",
    "print(X_test.head())"
   ]
  },
  {
   "cell_type": "markdown",
   "metadata": {},
   "source": [
    "**Setup the model**"
   ]
  },
  {
   "cell_type": "code",
   "execution_count": 10,
   "metadata": {},
   "outputs": [
    {
     "data": {
      "text/plain": [
       "Lasso(alpha=0.005, copy_X=True, fit_intercept=True, max_iter=1000,\n",
       "   normalize=False, positive=False, precompute=False, random_state=0,\n",
       "   selection='cyclic', tol=0.0001, warm_start=False)"
      ]
     },
     "execution_count": 10,
     "metadata": {},
     "output_type": "execute_result"
    }
   ],
   "source": [
    "lin_model=Lasso(alpha=0.005,random_state=0)\n",
    "\n",
    "lin_model.fit(X_train,y_train)"
   ]
  },
  {
   "cell_type": "markdown",
   "metadata": {},
   "source": [
    "**Predict and Evaluate the model**"
   ]
  },
  {
   "cell_type": "code",
   "execution_count": 16,
   "metadata": {},
   "outputs": [
    {
     "name": "stdout",
     "output_type": "stream",
     "text": [
      "For Train set -----\n",
      "MSE:1095546977\n",
      "RMSE:33099\n",
      "Score:0.8245393214365632\n",
      "\n",
      "For Test set -----\n",
      "MSE:1436186457\n",
      "RMSE:37897\n",
      "Score:0.7910124616405935\n"
     ]
    }
   ],
   "source": [
    "pred_train=lin_model.predict(X_train)\n",
    "print('For Train set -----')\n",
    "print('MSE:{}'.format(int(mean_squared_error(np.exp(y_train),np.exp(pred_train)))))\n",
    "print('RMSE:{}'.format(int(sqrt(mean_squared_error(np.exp(y_train),np.exp(pred_train))))))\n",
    "print('Score:{}'.format(r2_score(np.exp(y_train),np.exp(pred_train))))\n",
    "\n",
    "pred_test=lin_model.predict(X_test)\n",
    "print('\\nFor Test set -----')\n",
    "print('MSE:{}'.format(int(mean_squared_error(np.exp(y_test),np.exp(pred_test)))))\n",
    "print('RMSE:{}'.format(int(sqrt(mean_squared_error(np.exp(y_test),np.exp(pred_test))))))\n",
    "print('Score:{}'.format(r2_score(np.exp(y_test),np.exp(pred_test))))"
   ]
  },
  {
   "cell_type": "markdown",
   "metadata": {},
   "source": [
    "**Let's plot scatterplot with prediction and real value for evaluation**"
   ]
  },
  {
   "cell_type": "code",
   "execution_count": 18,
   "metadata": {},
   "outputs": [
    {
     "data": {
      "text/plain": [
       "Text(0.5, 1.0, 'Evaluation of Lasso prediction')"
      ]
     },
     "execution_count": 18,
     "metadata": {},
     "output_type": "execute_result"
    },
    {
     "data": {
      "image/png": "[encoded data removed]",
      "text/plain": [
       "<Figure size 432x288 with 1 Axes>"
      ]
     },
     "metadata": {
      "needs_background": "light"
     },
     "output_type": "display_data"
    }
   ],
   "source": [
    "plt.scatter(y_test,pred_test)\n",
    "plt.xlabel('True House Price')\n",
    "plt.ylabel('Predicted House Price')\n",
    "plt.title('Evaluation of Lasso prediction')\n"
   ]
  },
  {
   "cell_type": "markdown",
   "metadata": {},
   "source": [
    "We can see that our model performance is quite good in estimating house price."
   ]
  },
  {
   "cell_type": "markdown",
   "metadata": {},
   "source": [
    "**Let's see the distribution of errors**"
   ]
  },
  {
   "cell_type": "code",
   "execution_count": 19,
   "metadata": {},
   "outputs": [
    {
     "data": {
      "text/plain": [
       "<matplotlib.axes._subplots.AxesSubplot at 0x22044fbf860>"
      ]
     },
     "execution_count": 19,
     "metadata": {},
     "output_type": "execute_result"
    },
    {
     "data": {
      "image/png": "[encoded data removed]",
      "text/plain": [
       "<Figure size 432x288 with 1 Axes>"
      ]
     },
     "metadata": {
      "needs_background": "light"
     },
     "output_type": "display_data"
    }
   ],
   "source": [
    "residual=y_test-pred_test\n",
    "residual.hist(bins=30)"
   ]
  },
  {
   "cell_type": "markdown",
   "metadata": {},
   "source": [
    "We can see here as well that errors are normally distributed, which suggests that the model performance is good. "
   ]
  },
  {
   "cell_type": "markdown",
   "metadata": {},
   "source": [
    "## Feature Importance"
   ]
  },
  {
   "cell_type": "code",
   "execution_count": 20,
   "metadata": {},
   "outputs": [
    {
     "data": {
      "text/plain": [
       "Text(0.5, 0, 'Feature Importance')"
      ]
     },
     "execution_count": 20,
     "metadata": {},
     "output_type": "execute_result"
    },
    {
     "data": {
      "image/png": "[encoded data removed]",
      "text/plain": [
       "<Figure size 1080x432 with 1 Axes>"
      ]
     },
     "metadata": {
      "needs_background": "light"
     },
     "output_type": "display_data"
    }
   ],
   "source": [
    "importance = pd.Series(np.abs(lin_model.coef_.ravel()))\n",
    "importance.index=features\n",
    "importance.sort_values(ascending=False).plot.bar(figsize=(15,6))\n",
    "plt.ylabel('Lasso Coefficients')\n",
    "plt.xlabel('Feature Importance')"
   ]
  },
  {
   "cell_type": "markdown",
   "metadata": {},
   "source": [
    "Here we can see that GrLivArea,OverallQual and Neighorhood are some of the most important features which impact a house price."
   ]
  }
 ],
 "metadata": {
  "kernelspec": {
   "display_name": "Python 3",
   "language": "python",
   "name": "python3"
  },
  "language_info": {
   "codemirror_mode": {
    "name": "ipython",
    "version": 3
   },
   "file_extension": ".py",
   "mimetype": "text/x-python",
   "name": "python",
   "nbconvert_exporter": "python",
   "pygments_lexer": "ipython3",
   "version": "3.7.3"
  }
 },
 "nbformat": 4,
 "nbformat_minor": 2
}
